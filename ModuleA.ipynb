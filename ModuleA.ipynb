{
  "nbformat": 4,
  "nbformat_minor": 0,
  "metadata": {
    "colab": {
      "provenance": [],
      "authorship_tag": "ABX9TyNazvF2CwHtEYeZOKYURzdm",
      "include_colab_link": true
    },
    "kernelspec": {
      "name": "python3",
      "display_name": "Python 3"
    },
    "language_info": {
      "name": "python"
    }
  },
  "cells": [
    {
      "cell_type": "markdown",
      "metadata": {
        "id": "view-in-github",
        "colab_type": "text"
      },
      "source": [
        "<a href=\"https://colab.research.google.com/github/pifeldma/MAT421/blob/main/ModuleA.ipynb\" target=\"_parent\"><img src=\"https://colab.research.google.com/assets/colab-badge.svg\" alt=\"Open In Colab\"/></a>"
      ]
    },
    {
      "cell_type": "markdown",
      "source": [
        "Module A 9.1 9.2 9.3"
      ],
      "metadata": {
        "id": "VhaXQT_Kww1v"
      }
    },
    {
      "cell_type": "markdown",
      "source": [
        "Base-N and Binary"
      ],
      "metadata": {
        "id": "jQZGCp0zwz-R"
      }
    },
    {
      "cell_type": "code",
      "source": [
        "\n",
        "binx=0b1011\n",
        "\n",
        "binx"
      ],
      "metadata": {
        "id": "FZKl_jT_xAcr",
        "colab": {
          "base_uri": "https://localhost:8080/"
        },
        "outputId": "e06c721d-ebe6-410a-a5a1-e2d0f310434c"
      },
      "execution_count": 3,
      "outputs": [
        {
          "output_type": "execute_result",
          "data": {
            "text/plain": [
              "11"
            ]
          },
          "metadata": {},
          "execution_count": 3
        }
      ]
    },
    {
      "cell_type": "markdown",
      "source": [
        "11(base10)=2^3+2^1+2^0=0b1011"
      ],
      "metadata": {
        "id": "y8nPXCG0pSto"
      }
    },
    {
      "cell_type": "code",
      "source": [
        "biny=0b1111\n",
        "biny"
      ],
      "metadata": {
        "colab": {
          "base_uri": "https://localhost:8080/"
        },
        "id": "Lyii5oebpt_H",
        "outputId": "d43a8e84-3c7b-4ff4-9aa3-057dfc0877b9"
      },
      "execution_count": 4,
      "outputs": [
        {
          "output_type": "execute_result",
          "data": {
            "text/plain": [
              "15"
            ]
          },
          "metadata": {},
          "execution_count": 4
        }
      ]
    },
    {
      "cell_type": "markdown",
      "source": [
        "15(base10)=2^3+2^2+2^1+2^0=0b1111"
      ],
      "metadata": {
        "id": "wO1n76I4px0U"
      }
    },
    {
      "cell_type": "markdown",
      "source": [
        "Floating point numbers"
      ],
      "metadata": {
        "id": "Q43_l1J5w0FJ"
      }
    },
    {
      "cell_type": "code",
      "source": [
        "a=3\n",
        "b=3.5\n",
        "c=\"3.77\"\n",
        "d=3.500\n",
        "e=1.99e330\n",
        "f=0b1111\n",
        "print(float(a))\n",
        "print(float(b))\n",
        "print(float(c))\n",
        "print(float(d))\n",
        "print(float(e))\n",
        "print(float(f))"
      ],
      "metadata": {
        "id": "TPPnz4--xAD1",
        "colab": {
          "base_uri": "https://localhost:8080/"
        },
        "outputId": "1c8048e8-31be-4601-e4a4-7d883cec29c7"
      },
      "execution_count": 10,
      "outputs": [
        {
          "output_type": "stream",
          "name": "stdout",
          "text": [
            "3.0\n",
            "3.5\n",
            "3.77\n",
            "3.5\n",
            "inf\n",
            "15.0\n"
          ]
        }
      ]
    },
    {
      "cell_type": "markdown",
      "source": [
        "Round-off Erros"
      ],
      "metadata": {
        "id": "xXlI3hwuw0L6"
      }
    },
    {
      "cell_type": "code",
      "source": [
        "x=3.8-3.745\n",
        "print(x)\n",
        "print(3.8-3.745==.055)\n",
        "\n",
        "y=0.1+0.2+0.3\n",
        "print(0.1+0.2+0.3==0.6)\n",
        "print(y)\n",
        "print(round(0.1+0.2+0.3,2)==round(0.6,2))"
      ],
      "metadata": {
        "id": "kibIyTbVxA4S",
        "colab": {
          "base_uri": "https://localhost:8080/"
        },
        "outputId": "23c87713-6a04-4548-fea0-f6f705302bff"
      },
      "execution_count": 20,
      "outputs": [
        {
          "output_type": "stream",
          "name": "stdout",
          "text": [
            "0.054999999999999716\n",
            "False\n",
            "False\n",
            "0.6000000000000001\n",
            "True\n"
          ]
        }
      ]
    }
  ]
}