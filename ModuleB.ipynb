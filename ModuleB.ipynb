{
  "nbformat": 4,
  "nbformat_minor": 0,
  "metadata": {
    "colab": {
      "provenance": [],
      "authorship_tag": "ABX9TyOy0eDCToEHGBshxFEixvGQ",
      "include_colab_link": true
    },
    "kernelspec": {
      "name": "python3",
      "display_name": "Python 3"
    },
    "language_info": {
      "name": "python"
    }
  },
  "cells": [
    {
      "cell_type": "markdown",
      "metadata": {
        "id": "view-in-github",
        "colab_type": "text"
      },
      "source": [
        "<a href=\"https://colab.research.google.com/github/pifeldma/MAT421/blob/main/ModuleB.ipynb\" target=\"_parent\"><img src=\"https://colab.research.google.com/assets/colab-badge.svg\" alt=\"Open In Colab\"/></a>"
      ]
    },
    {
      "cell_type": "markdown",
      "source": [
        "Interpolation Problem Statement"
      ],
      "metadata": {
        "id": "HGg1KOHrzMhA"
      }
    },
    {
      "cell_type": "markdown",
      "source": [
        "Linear Interpolation"
      ],
      "metadata": {
        "id": "pihg-LMZzQYr"
      }
    },
    {
      "cell_type": "markdown",
      "source": [
        "Cubic Spline Interpolation"
      ],
      "metadata": {
        "id": "w6BGJOc6zSYB"
      }
    },
    {
      "cell_type": "code",
      "source": [
        "from scipy.interpolate import interp1d\n",
        "import numpy as np\n",
        "\n",
        "x = np.arange(10)\n",
        "y = 2*x + 1\n",
        "\n",
        "interpfunction = interp1d(x, y)\n",
        "\n",
        "new = interpfunction(np.arange(2.1,3,.1))\n",
        "\n",
        "print(new)"
      ],
      "metadata": {
        "colab": {
          "base_uri": "https://localhost:8080/"
        },
        "id": "sAORSv_-1mMn",
        "outputId": "62a7fb20-165e-4719-de06-537297439cea"
      },
      "execution_count": 3,
      "outputs": [
        {
          "output_type": "stream",
          "name": "stdout",
          "text": [
            "[5.2 5.4 5.6 5.8 6.  6.2 6.4 6.6 6.8]\n"
          ]
        }
      ]
    },
    {
      "cell_type": "code",
      "source": [
        "from scipy.interpolate import UnivariateSpline\n",
        "x = np.arange(10)\n",
        "y=x**2 + np.sin(x) + 1\n",
        "interpfunction1=UnivariateSpline(x,y)\n",
        "new1=interpfunction1(np.arange(2.1,3.,1))\n",
        "print(new1)"
      ],
      "metadata": {
        "colab": {
          "base_uri": "https://localhost:8080/"
        },
        "id": "-qY-P4_z2aG-",
        "outputId": "2c695057-de41-4961-ca26-5249dbcb4b4b"
      },
      "execution_count": 4,
      "outputs": [
        {
          "output_type": "stream",
          "name": "stdout",
          "text": [
            "[5.62826474]\n"
          ]
        }
      ]
    },
    {
      "cell_type": "code",
      "source": [
        "from scipy.interpolate import UnivariateSpline\n",
        "x = np.arange(10)\n",
        "y=x**3 + 1\n",
        "interpfunction2=UnivariateSpline(x,y)\n",
        "new2=interpfunction2(np.arange(2.1,3.,1))\n",
        "print(new2)"
      ],
      "metadata": {
        "colab": {
          "base_uri": "https://localhost:8080/"
        },
        "id": "P3eJnfmh262E",
        "outputId": "4dc65bc1-0469-4064-ae78-ebd9d26524ad"
      },
      "execution_count": 6,
      "outputs": [
        {
          "output_type": "stream",
          "name": "stdout",
          "text": [
            "[10.261]\n"
          ]
        }
      ]
    },
    {
      "cell_type": "code",
      "source": [
        "from scipy.interpolate import UnivariateSpline\n",
        "x = np.arange(10)\n",
        "y = np.arange(10)\n",
        "interpfunction3=UnivariateSpline(x,y)\n",
        "new3=interpfunction3(np.arange(2.1,3.,1))\n",
        "print(new3)"
      ],
      "metadata": {
        "colab": {
          "base_uri": "https://localhost:8080/"
        },
        "id": "lzmO0Jaj3Nw7",
        "outputId": "175cddb7-0e81-45de-e969-6f3c837424db"
      },
      "execution_count": 8,
      "outputs": [
        {
          "output_type": "stream",
          "name": "stdout",
          "text": [
            "[2.1]\n"
          ]
        }
      ]
    }
  ]
}