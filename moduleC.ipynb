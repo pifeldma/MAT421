{
  "nbformat": 4,
  "nbformat_minor": 0,
  "metadata": {
    "colab": {
      "provenance": [],
      "authorship_tag": "ABX9TyOHEmwDyOSiVTsActsksgw+",
      "include_colab_link": true
    },
    "kernelspec": {
      "name": "python3",
      "display_name": "Python 3"
    },
    "language_info": {
      "name": "python"
    }
  },
  "cells": [
    {
      "cell_type": "markdown",
      "metadata": {
        "id": "view-in-github",
        "colab_type": "text"
      },
      "source": [
        "<a href=\"https://colab.research.google.com/github/pifeldma/MAT421/blob/main/moduleC.ipynb\" target=\"_parent\"><img src=\"https://colab.research.google.com/assets/colab-badge.svg\" alt=\"Open In Colab\"/></a>"
      ]
    },
    {
      "cell_type": "markdown",
      "source": [
        "Module C: Section 19.1, 19,2, 19.3, 19.4 19.5"
      ],
      "metadata": {
        "id": "L7X97274diQi"
      }
    },
    {
      "cell_type": "markdown",
      "source": [
        "Root Finding Problem Statement"
      ],
      "metadata": {
        "id": "ANsHg6Ejdl9l"
      }
    },
    {
      "cell_type": "code",
      "source": [
        "from scipy.optimize import fsolve\n",
        "f = lambda x: x**3-100*x**2-x+100\n",
        "fsolve(f,[2,80])"
      ],
      "metadata": {
        "colab": {
          "base_uri": "https://localhost:8080/"
        },
        "id": "IaX6c1DUd5YC",
        "outputId": "3bd0c18d-11b6-4a58-de68-8790597c3aaa"
      },
      "execution_count": 2,
      "outputs": [
        {
          "output_type": "execute_result",
          "data": {
            "text/plain": [
              "array([3.34892848e-09, 1.00009999e+02])"
            ]
          },
          "metadata": {},
          "execution_count": 2
        }
      ]
    },
    {
      "cell_type": "code",
      "source": [
        "import numpy as np\n",
        "from scipy import optimize\n",
        "f = lambda x:np.cos(x)-x\n",
        "r=optimize.fsolve(f,-2)\n",
        "print(\"r=\", r)\n",
        "\n",
        "result = f(r)\n",
        "\n",
        "print(\"result=\", result)"
      ],
      "metadata": {
        "colab": {
          "base_uri": "https://localhost:8080/"
        },
        "id": "qZts9cj3eSvx",
        "outputId": "9022edf2-4dec-4f8d-9335-f0a8549b7646"
      },
      "execution_count": 8,
      "outputs": [
        {
          "output_type": "stream",
          "name": "stdout",
          "text": [
            "r= [0.73908513]\n",
            "result= [0.]\n"
          ]
        }
      ]
    },
    {
      "cell_type": "code",
      "source": [
        "f = lambda x: 1/x\n",
        "r, infodict, ier, mesg = optimize.fsolve(f, -2, full_output=True)\n",
        "print(\"r=\", r)\n",
        "\n",
        "result = f(r)\n",
        "print(\"result=\", result)\n",
        "\n",
        "print(mesg)\n"
      ],
      "metadata": {
        "colab": {
          "base_uri": "https://localhost:8080/"
        },
        "id": "8RKT5uPRfA9n",
        "outputId": "143f5e8f-27b1-4756-a3be-9e5331d086c6"
      },
      "execution_count": 9,
      "outputs": [
        {
          "output_type": "stream",
          "name": "stdout",
          "text": [
            "r= [-3.52047359e+83]\n",
            "result= [-2.84052692e-84]\n",
            "The number of calls to function has reached maxfev = 400.\n"
          ]
        }
      ]
    },
    {
      "cell_type": "markdown",
      "source": [
        "Tolerance"
      ],
      "metadata": {
        "id": "FYPvG9xKdqRc"
      }
    },
    {
      "cell_type": "code",
      "source": [
        "from numpy import array\n",
        "tol=1e-6\n",
        "t=array([1.0e-10, -1.0e-10, 1.0+1.0e-10, 1.0-1.0e-10, 5.0])\n",
        "t[abs(t) < tol] = 0\n",
        "print(t[0], t[1], t[2], t[3], t[4])"
      ],
      "metadata": {
        "colab": {
          "base_uri": "https://localhost:8080/"
        },
        "id": "bs_jyd9JfhPy",
        "outputId": "9fe38ad0-7fea-4f62-fbaf-0a1c36c11c75"
      },
      "execution_count": 10,
      "outputs": [
        {
          "output_type": "stream",
          "name": "stdout",
          "text": [
            "0.0 0.0 1.0000000001 0.9999999999 5.0\n"
          ]
        }
      ]
    },
    {
      "cell_type": "markdown",
      "source": [
        "Bisection Method"
      ],
      "metadata": {
        "id": "bYvi2wUEdswV"
      }
    },
    {
      "cell_type": "code",
      "source": [
        "def f(x):\n",
        "  return(x**2-11)\n",
        "\n",
        "def bisection_method(a, b, tol):\n",
        "  if f(a)*f(b) > 0:\n",
        "    print(\"No root\")\n",
        "  else:\n",
        "    while (b-a)/2.0 > tol:\n",
        "      midpoint = (a+b)/2.0\n",
        "      if f(midpoint)==0:\n",
        "        return(midpoint)\n",
        "      elif f(a)*f(midpoint)<0:\n",
        "        b=midpoint\n",
        "      else:\n",
        "        a=midpoint\n",
        "    return(midpoint)\n",
        "answer = bisection_method(-1, 5, 0.0001)\n",
        "print(round(answer,3))\n"
      ],
      "metadata": {
        "colab": {
          "base_uri": "https://localhost:8080/"
        },
        "id": "yOGJDUpigsoN",
        "outputId": "ac0b5f9a-5a48-411f-e718-fd4b3dd9161c"
      },
      "execution_count": 11,
      "outputs": [
        {
          "output_type": "stream",
          "name": "stdout",
          "text": [
            "3.317\n"
          ]
        }
      ]
    },
    {
      "cell_type": "markdown",
      "source": [
        "Newton-Raphson Method"
      ],
      "metadata": {
        "id": "VfgWNkO0dtGF"
      }
    },
    {
      "cell_type": "code",
      "source": [
        "import numpy as np\n",
        "f=lambda x: x**2-2\n",
        "f_prime = lambda x:2*x\n",
        "newton_raphson = 1.4 - (f(1.4))/(f_prime(1.4))\n",
        "print(\"newton_raphson=\", newton_raphson)\n",
        "print(\"sqrt(2)=\", np.sqrt(2))"
      ],
      "metadata": {
        "colab": {
          "base_uri": "https://localhost:8080/"
        },
        "id": "8O4XKvYceM3F",
        "outputId": "8e15e309-aac0-4f75-e2bf-5551009d9d6d"
      },
      "execution_count": 12,
      "outputs": [
        {
          "output_type": "stream",
          "name": "stdout",
          "text": [
            "newton_raphson= 1.4142857142857144\n",
            "sqrt(2)= 1.4142135623730951\n"
          ]
        }
      ]
    }
  ]
}