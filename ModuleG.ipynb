{
  "nbformat": 4,
  "nbformat_minor": 0,
  "metadata": {
    "colab": {
      "provenance": [],
      "authorship_tag": "ABX9TyMg0zAKx4RcEP7fHAHkx3Kb",
      "include_colab_link": true
    },
    "kernelspec": {
      "name": "python3",
      "display_name": "Python 3"
    },
    "language_info": {
      "name": "python"
    }
  },
  "cells": [
    {
      "cell_type": "markdown",
      "metadata": {
        "id": "view-in-github",
        "colab_type": "text"
      },
      "source": [
        "<a href=\"https://colab.research.google.com/github/pifeldma/MAT421/blob/main/ModuleG.ipynb\" target=\"_parent\"><img src=\"https://colab.research.google.com/assets/colab-badge.svg\" alt=\"Open In Colab\"/></a>"
      ]
    },
    {
      "cell_type": "markdown",
      "source": [
        "Numerical Integration Problem Statement\n",
        "\n",
        "Riemann’s Integral\n",
        "\n",
        "Trapezoid Rule"
      ],
      "metadata": {
        "id": "aUgwIlVLGS7R"
      }
    },
    {
      "cell_type": "code",
      "source": [
        "from __future__ import division\n",
        "\n",
        "def simpson(a,b,n,f):\n",
        "  sum=0\n",
        "  inc=(b-a)/n\n",
        "  for k in range(n+1):\n",
        "    x=a+(k*inc)\n",
        "    summand=f(x)\n",
        "    if (k!=0) and (k!=n):\n",
        "      summand*=(2+(2*(k%2)))\n",
        "    sum+=summand\n",
        "  return ((b-a)/(3*n))*sum\n",
        "\n",
        "print(simpson(1,2,10,lambda x: 1/x))\n",
        "print(simpson(1,4,6,lambda x: 1/x))\n",
        "import math\n",
        "print(simpson(0,1,6,lambda x: 1/math.sqrt(1+x*x)))"
      ],
      "metadata": {
        "colab": {
          "base_uri": "https://localhost:8080/"
        },
        "id": "U32E7F5oG2Gd",
        "outputId": "bc024653-683a-4678-b3b3-0d449eb0f388"
      },
      "execution_count": 1,
      "outputs": [
        {
          "output_type": "stream",
          "name": "stdout",
          "text": [
            "0.6931502306889303\n",
            "1.3876984126984127\n",
            "0.8813746413156114\n"
          ]
        }
      ]
    },
    {
      "cell_type": "code",
      "source": [
        "import numpy as np\n",
        "a=0\n",
        "b=np.pi\n",
        "n=11\n",
        "h=(b-a)/(n-1)\n",
        "x=np.linspace(a,b,n)\n",
        "f=np.sin(x)\n",
        "\n",
        "I_riemannL=h*sum(f[:n-1])\n",
        "err_riemannL=2-I_riemannL\n",
        "\n",
        "I_riemannR=h*sum(f[1::])\n",
        "err_riemannR=2-I_riemannR\n",
        "\n",
        "I_mid=h*sum(np.sin((x[:n-1]+x[1:])/2))\n",
        "err_mid=2-I_mid\n",
        "\n",
        "print(I_riemannL)\n",
        "print(err_riemannL)\n",
        "print(I_riemannR)\n",
        "print(err_riemannR)\n",
        "print(I_mid)\n",
        "print(err_mid)"
      ],
      "metadata": {
        "colab": {
          "base_uri": "https://localhost:8080/"
        },
        "id": "epcuFO55J5Jl",
        "outputId": "36fd0f18-b72e-43c6-d360-831a941ea4a9"
      },
      "execution_count": 4,
      "outputs": [
        {
          "output_type": "stream",
          "name": "stdout",
          "text": [
            "1.9835235375094546\n",
            "0.01647646249054535\n",
            "1.9835235375094546\n",
            "0.01647646249054535\n",
            "2.0082484079079745\n",
            "-0.008248407907974542\n"
          ]
        }
      ]
    },
    {
      "cell_type": "code",
      "source": [
        "from __future__ import division\n",
        "def midpoint(a,b,n,f):\n",
        "  sum=0\n",
        "  x_int=((2*n+1)*a-b)/(2*n)\n",
        "  inc=(b-a)/n\n",
        "  for k in range(1, n+1):\n",
        "    x=x_int +(k*inc)\n",
        "    sum+=f(x)\n",
        "  return sum * inc\n",
        "\n",
        "print(midpoint(1,2,10,lambda x:1/x))"
      ],
      "metadata": {
        "colab": {
          "base_uri": "https://localhost:8080/"
        },
        "id": "RLVnT2shJH7l",
        "outputId": "1eb594e3-7276-49bf-dd9a-c9859ff4480a"
      },
      "execution_count": 3,
      "outputs": [
        {
          "output_type": "stream",
          "name": "stdout",
          "text": [
            "0.6928353604099602\n"
          ]
        }
      ]
    }
  ]
}